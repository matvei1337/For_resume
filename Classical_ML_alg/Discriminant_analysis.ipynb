{
 "cells": [
  {
   "cell_type": "code",
   "execution_count": 1,
   "metadata": {
    "id": "UXmCE0CDWmKV"
   },
   "outputs": [],
   "source": [
    "import pandas as pd\n",
    "import numpy as np\n",
    "import seaborn as sns \n",
    "import matplotlib.pyplot as plt\n",
    "\n",
    "from warnings import filterwarnings\n",
    "filterwarnings(action='ignore')\n",
    "\n",
    "from sklearn.model_selection import train_test_split\n",
    "from sklearn import metrics\n",
    "from sklearn.discriminant_analysis import LinearDiscriminantAnalysis, QuadraticDiscriminantAnalysis"
   ]
  },
  {
   "cell_type": "code",
   "execution_count": 2,
   "metadata": {
    "colab": {
     "base_uri": "https://localhost:8080/",
     "height": 206
    },
    "id": "s0rGanDwXhJ-",
    "outputId": "dd0cff84-309d-4c3e-cbe8-9155b1ec73dc"
   },
   "outputs": [
    {
     "data": {
      "text/html": [
       "<div>\n",
       "<style scoped>\n",
       "    .dataframe tbody tr th:only-of-type {\n",
       "        vertical-align: middle;\n",
       "    }\n",
       "\n",
       "    .dataframe tbody tr th {\n",
       "        vertical-align: top;\n",
       "    }\n",
       "\n",
       "    .dataframe thead th {\n",
       "        text-align: right;\n",
       "    }\n",
       "</style>\n",
       "<table border=\"1\" class=\"dataframe\">\n",
       "  <thead>\n",
       "    <tr style=\"text-align: right;\">\n",
       "      <th></th>\n",
       "      <th>sepal_length</th>\n",
       "      <th>sepal_width</th>\n",
       "      <th>petal_length</th>\n",
       "      <th>petal_width</th>\n",
       "      <th>species</th>\n",
       "    </tr>\n",
       "  </thead>\n",
       "  <tbody>\n",
       "    <tr>\n",
       "      <th>0</th>\n",
       "      <td>5.1</td>\n",
       "      <td>3.5</td>\n",
       "      <td>1.4</td>\n",
       "      <td>0.2</td>\n",
       "      <td>Iris-setosa</td>\n",
       "    </tr>\n",
       "    <tr>\n",
       "      <th>1</th>\n",
       "      <td>4.9</td>\n",
       "      <td>3.0</td>\n",
       "      <td>1.4</td>\n",
       "      <td>0.2</td>\n",
       "      <td>Iris-setosa</td>\n",
       "    </tr>\n",
       "    <tr>\n",
       "      <th>2</th>\n",
       "      <td>4.7</td>\n",
       "      <td>3.2</td>\n",
       "      <td>1.3</td>\n",
       "      <td>0.2</td>\n",
       "      <td>Iris-setosa</td>\n",
       "    </tr>\n",
       "    <tr>\n",
       "      <th>3</th>\n",
       "      <td>4.6</td>\n",
       "      <td>3.1</td>\n",
       "      <td>1.5</td>\n",
       "      <td>0.2</td>\n",
       "      <td>Iris-setosa</td>\n",
       "    </tr>\n",
       "    <tr>\n",
       "      <th>4</th>\n",
       "      <td>5.0</td>\n",
       "      <td>3.6</td>\n",
       "      <td>1.4</td>\n",
       "      <td>0.2</td>\n",
       "      <td>Iris-setosa</td>\n",
       "    </tr>\n",
       "  </tbody>\n",
       "</table>\n",
       "</div>"
      ],
      "text/plain": [
       "   sepal_length  sepal_width  petal_length  petal_width      species\n",
       "0           5.1          3.5           1.4          0.2  Iris-setosa\n",
       "1           4.9          3.0           1.4          0.2  Iris-setosa\n",
       "2           4.7          3.2           1.3          0.2  Iris-setosa\n",
       "3           4.6          3.1           1.5          0.2  Iris-setosa\n",
       "4           5.0          3.6           1.4          0.2  Iris-setosa"
      ]
     },
     "execution_count": 2,
     "metadata": {},
     "output_type": "execute_result"
    }
   ],
   "source": [
    "url = 'https://raw.githubusercontent.com/yakushinav/omo/main/data/iris.csv'\n",
    "data = pd.read_csv(url)\n",
    "data.head(5)"
   ]
  },
  {
   "cell_type": "code",
   "execution_count": 3,
   "metadata": {
    "id": "F6rRqP1yggi2"
   },
   "outputs": [],
   "source": [
    "train, test = train_test_split(data, test_size = 0.4, stratify = data['species'], random_state = 42)"
   ]
  },
  {
   "cell_type": "code",
   "execution_count": 4,
   "metadata": {},
   "outputs": [],
   "source": [
    "X_train = train[['sepal_length','sepal_width','petal_length','petal_width']]\n",
    "y_train = train.species\n",
    "X_test = test[['sepal_length','sepal_width','petal_length','petal_width']]\n",
    "y_test = test.species\n",
    "\n",
    "fn = ['sepal_length','sepal_width','petal_length','petal_width']\n",
    "cn = data['species'].unique()"
   ]
  },
  {
   "cell_type": "code",
   "execution_count": 5,
   "metadata": {
    "colab": {
     "base_uri": "https://localhost:8080/",
     "height": 553
    },
    "id": "q0GpLRYyhDnZ",
    "outputId": "a2b96a9c-06e0-4111-e94f-baaff0e5aa4d"
   },
   "outputs": [],
   "source": [
    "mod_lda_all = LinearDiscriminantAnalysis()\n",
    "y_pred = mod_lda_all.fit(X_train, y_train).predict(X_test)"
   ]
  },
  {
   "cell_type": "code",
   "execution_count": 6,
   "metadata": {},
   "outputs": [
    {
     "name": "stdout",
     "output_type": "stream",
     "text": [
      "accuracy (точность) классификатора 0.9833333333333333\n",
      "матрица ошибок\n",
      "[[20  0  0]\n",
      " [ 0 20  0]\n",
      " [ 0  1 19]]\n"
     ]
    }
   ],
   "source": [
    "y_pred=mod_lda_all.predict(X_test)\n",
    "\n",
    "print('accuracy (точность) классификатора',metrics.accuracy_score(y_pred,y_test))\n",
    "\n",
    "print(\"матрица ошибок\")\n",
    "print(metrics.confusion_matrix(y_test, y_pred))"
   ]
  },
  {
   "cell_type": "code",
   "execution_count": 7,
   "metadata": {},
   "outputs": [
    {
     "name": "stdout",
     "output_type": "stream",
     "text": [
      "['Iris-virginica']\n"
     ]
    }
   ],
   "source": [
    "new_iris=[1.3, 2.4, 5.6, 3.5]\n",
    "y_new_iris=mod_lda_all.predict([new_iris])\n",
    "\n",
    "print(y_new_iris)"
   ]
  },
  {
   "cell_type": "code",
   "execution_count": 8,
   "metadata": {},
   "outputs": [
    {
     "name": "stdout",
     "output_type": "stream",
     "text": [
      "[ -6.04323394  -3.92033351 -41.3210986 ]\n",
      "[[  6.32361417   9.610657   -17.46495871 -19.96252144]\n",
      " [ -1.3556569   -3.69530297   4.7397141    1.94664665]\n",
      " [ -4.96795728  -5.91535404  12.72524461  18.01587479]]\n"
     ]
    }
   ],
   "source": [
    "print(mod_lda_all.intercept_)\n",
    "print(mod_lda_all.coef_)"
   ]
  },
  {
   "cell_type": "code",
   "execution_count": 9,
   "metadata": {},
   "outputs": [
    {
     "data": {
      "image/png": "[encoded data removed]",
      "text/plain": [
       "<Figure size 643x500 with 1 Axes>"
      ]
     },
     "metadata": {},
     "output_type": "display_data"
    }
   ],
   "source": [
    "mod_lda_1 = LinearDiscriminantAnalysis()\n",
    "selected_predictors = [\"petal_length\", \"petal_width\"]\n",
    "y_pred = mod_lda_1.fit(X_train[selected_predictors], y_train).predict(X_test[selected_predictors])\n",
    "\n",
    "g = sns.FacetGrid(test, hue=\"species\", height=5, palette = 'colorblind').map(plt.scatter,\"petal_length\", \"petal_width\", ).add_legend()\n",
    "my_ax = g.ax\n",
    "\n",
    "y1 = np.array([3, 0])\n",
    "\n",
    "for i, c in enumerate(['r','g','b']):\n",
    "    b, w1, w2 = mod_lda_1.intercept_[i], mod_lda_1.coef_[i][0], mod_lda_1.coef_[i][1]\n",
    "    x1 = -(b+y1*w2)/w1    \n",
    "    plt.plot(x1,y1,c=c)"
   ]
  },
  {
   "cell_type": "code",
   "execution_count": 10,
   "metadata": {},
   "outputs": [
    {
     "name": "stdout",
     "output_type": "stream",
     "text": [
      "accuracy (точность) классификатора QDA  0.983\n",
      "матрица ошибок\n",
      "[[20  0  0]\n",
      " [ 0 20  0]\n",
      " [ 0  1 19]]\n"
     ]
    }
   ],
   "source": [
    "mod_qda_all = QuadraticDiscriminantAnalysis()\n",
    "y_pred = mod_qda_all.fit(X_train, y_train).predict(X_test)\n",
    "print('accuracy (точность) классификатора QDA ',\"{:.3f}\".format(metrics.accuracy_score(y_pred,y_test)))\n",
    "\n",
    "print(\"матрица ошибок\")\n",
    "print(metrics.confusion_matrix(y_test, y_pred))"
   ]
  },
  {
   "cell_type": "code",
   "execution_count": 11,
   "metadata": {},
   "outputs": [
    {
     "name": "stdout",
     "output_type": "stream",
     "text": [
      "['Iris-virginica']\n"
     ]
    }
   ],
   "source": [
    "new_iris=[1.3, 2.4, 5.6, 3.5]\n",
    "y_new_iris=mod_qda_all.predict([new_iris])\n",
    "\n",
    "print(y_new_iris)"
   ]
  },
  {
   "cell_type": "code",
   "execution_count": 13,
   "metadata": {},
   "outputs": [
    {
     "name": "stdout",
     "output_type": "stream",
     "text": [
      "[[4.98666667 3.42       1.49       0.23666667]\n",
      " [5.97       2.74       4.27       1.31333333]\n",
      " [6.64666667 3.01666667 5.62333333 2.05666667]]\n"
     ]
    }
   ],
   "source": [
    "print(mod_qda_all.means_)"
   ]
  },
  {
   "cell_type": "code",
   "execution_count": null,
   "metadata": {},
   "outputs": [],
   "source": []
  }
 ],
 "metadata": {
  "colab": {
   "provenance": []
  },
  "kernelspec": {
   "display_name": "Python 3 (ipykernel)",
   "language": "python",
   "name": "python3"
  },
  "language_info": {
   "codemirror_mode": {
    "name": "ipython",
    "version": 3
   },
   "file_extension": ".py",
   "mimetype": "text/x-python",
   "name": "python",
   "nbconvert_exporter": "python",
   "pygments_lexer": "ipython3",
   "version": "3.12.3"
  }
 },
 "nbformat": 4,
 "nbformat_minor": 4
}
